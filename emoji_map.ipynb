{
  "nbformat": 4,
  "nbformat_minor": 0,
  "metadata": {
    "colab": {
      "provenance": [],
      "include_colab_link": true
    },
    "kernelspec": {
      "name": "python3",
      "display_name": "Python 3"
    },
    "language_info": {
      "name": "python"
    }
  },
  "cells": [
    {
      "cell_type": "markdown",
      "metadata": {
        "id": "view-in-github",
        "colab_type": "text"
      },
      "source": [
        "<a href=\"https://colab.research.google.com/github/Data-Analytics-with-Python/emoji-mapping-exercise-zoe-ry/blob/main/emoji_map.ipynb\" target=\"_parent\"><img src=\"https://colab.research.google.com/assets/colab-badge.svg\" alt=\"Open In Colab\"/></a>"
      ]
    },
    {
      "cell_type": "code",
      "execution_count": 1,
      "metadata": {
        "id": "QTEBoiVlqXnx"
      },
      "outputs": [],
      "source": [
        "# Define a dictional that maps words into emojis\n",
        "EMOJI_MAP = {\n",
        "    \"happy\": \"😀\",\n",
        "    \"joyful\": \"😄\",\n",
        "    \"excited\": \"🤩\",\n",
        "    \"proud\": \"😌\",\n",
        "    \"calm\": \"🙂\",\n",
        "    \"confident\": \"😎\",\n",
        "    \"playful\": \"😜\",\n",
        "    \"silly\": \"🤪\",\n",
        "    \"angry\": \"😡\",\n",
        "    \"frustrated\": \"😤\",\n",
        "    \"sad\": \"😢\",\n",
        "    \"lonely\": \"🥺\",\n",
        "    \"scared\": \"😱\",\n",
        "    \"worried\": \"😟\",\n",
        "    \"tired\": \"😴\",\n",
        "    \"confused\": \"🤔\",\n",
        "    \"surprised\": \"😮\",\n",
        "    \"loving\": \"❤️\",\n",
        "    \"grateful\": \"🙏\"\n",
        "}"
      ]
    },
    {
      "cell_type": "code",
      "source": [
        "# Replace the content of 'text' with your own sentence. No punctuaton marks!\n",
        "text = \"I am happy\""
      ],
      "metadata": {
        "id": "yg-oV8D1qYuj"
      },
      "execution_count": 4,
      "outputs": []
    },
    {
      "cell_type": "code",
      "source": [
        "# Split text into a list of words using .split() function\n",
        "words = text.split()\n",
        "\n",
        "word_emoji_list = []\n",
        "\n",
        "for word in words:\n",
        "    if word in EMOJI_MAP:\n",
        "        word_emoji = EMOJI_MAP[word]\n",
        "    else:\n",
        "        word_emoji = word\n",
        "\n",
        "    word_emoji_list.append(word_emoji)\n",
        "\n",
        "text_output = \" \".join(word_emoji_list)\n",
        "display(text_output)\n",
        "\n"
      ],
      "metadata": {
        "id": "xFX3D2omqxjB",
        "outputId": "999c8595-97ff-476f-ac69-4b25868cc54d",
        "colab": {
          "base_uri": "https://localhost:8080/",
          "height": 35
        }
      },
      "execution_count": 13,
      "outputs": [
        {
          "output_type": "display_data",
          "data": {
            "text/plain": [
              "'I am 😀'"
            ],
            "application/vnd.google.colaboratory.intrinsic+json": {
              "type": "string"
            }
          },
          "metadata": {}
        }
      ]
    },
    {
      "cell_type": "code",
      "source": [
        "# Use a for loop to enumerate the list of words. If the word is in EMOJI_MAP, replace it with the corresponding emoji\n",
        "\n"
      ],
      "metadata": {
        "id": "MmYdSeYG0Ei6"
      },
      "execution_count": null,
      "outputs": []
    }
  ]
}